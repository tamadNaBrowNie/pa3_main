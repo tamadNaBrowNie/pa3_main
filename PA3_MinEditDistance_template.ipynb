{
 "cells": [
  {
   "cell_type": "markdown",
   "metadata": {
    "id": "wt4sVtx0CqPh"
   },
   "source": [
    "# **Programming Assessment \\#3**\n",
    "\n",
    "Name:Shawn Aberin\n",
    "\n",
    "More information on the assessment is found in our Canvas course."
   ]
  },
  {
   "cell_type": "markdown",
   "metadata": {
    "id": "nnzCsnf1E4V1"
   },
   "source": [
    "# **Your Solution**\n",
    "\n",
    "*Kindly place your solution in the code block below. You may use multiple code blocks if you see the need to do so.*"
   ]
  },
  {
   "cell_type": "code",
   "execution_count": 7,
   "metadata": {
    "id": "gfXU5Xc4E_ud"
   },
   "outputs": [
    {
     "ename": "IndexError",
     "evalue": "string index out of range",
     "output_type": "error",
     "traceback": [
      "\u001b[1;31m---------------------------------------------------------------------------\u001b[0m",
      "\u001b[1;31mIndexError\u001b[0m                                Traceback (most recent call last)",
      "Input \u001b[1;32mIn [7]\u001b[0m, in \u001b[0;36m<cell line: 78>\u001b[1;34m()\u001b[0m\n\u001b[0;32m     76\u001b[0m \u001b[38;5;66;03m#list of snafu cases\u001b[39;00m\n\u001b[0;32m     77\u001b[0m snafu \u001b[38;5;241m=\u001b[39m [(\u001b[38;5;124m\"\u001b[39m\u001b[38;5;124mnbruta\u001b[39m\u001b[38;5;124m\"\u001b[39m,\u001b[38;5;124m\"\u001b[39m\u001b[38;5;124mboruta\u001b[39m\u001b[38;5;124m\"\u001b[39m),(\u001b[38;5;124m\"\u001b[39m\u001b[38;5;124melf\u001b[39m\u001b[38;5;124m\"\u001b[39m,\u001b[38;5;124m\"\u001b[39m\u001b[38;5;124mlevel\u001b[39m\u001b[38;5;124m\"\u001b[39m),(\u001b[38;5;124m\"\u001b[39m\u001b[38;5;124mboruta\u001b[39m\u001b[38;5;124m\"\u001b[39m,\u001b[38;5;124m\"\u001b[39m\u001b[38;5;124mnbruta\u001b[39m\u001b[38;5;124m\"\u001b[39m),(\u001b[38;5;124m\"\u001b[39m\u001b[38;5;124mlevel\u001b[39m\u001b[38;5;124m\"\u001b[39m,\u001b[38;5;124m\"\u001b[39m\u001b[38;5;124melves\u001b[39m\u001b[38;5;124m\"\u001b[39m),(\u001b[38;5;124m'\u001b[39m\u001b[38;5;124mbaa\u001b[39m\u001b[38;5;124m'\u001b[39m,\u001b[38;5;124m'\u001b[39m\u001b[38;5;124ma\u001b[39m\u001b[38;5;124m'\u001b[39m),(\u001b[38;5;124m'\u001b[39m\u001b[38;5;124mbaa\u001b[39m\u001b[38;5;124m'\u001b[39m,\u001b[38;5;124m'\u001b[39m\u001b[38;5;124maba\u001b[39m\u001b[38;5;124m'\u001b[39m),(\u001b[38;5;124m'\u001b[39m\u001b[38;5;124mb\u001b[39m\u001b[38;5;124m'\u001b[39m,\u001b[38;5;124m'\u001b[39m\u001b[38;5;124maba\u001b[39m\u001b[38;5;124m'\u001b[39m)]\n\u001b[1;32m---> 78\u001b[0m d\u001b[38;5;241m=\u001b[39m\u001b[43mmin_d\u001b[49m\u001b[43m(\u001b[49m\u001b[38;5;241;43m*\u001b[39;49m\u001b[43msnafu\u001b[49m\u001b[43m[\u001b[49m\u001b[38;5;241;43m1\u001b[39;49m\u001b[43m]\u001b[49m\u001b[43m)\u001b[49m\n\u001b[0;32m     79\u001b[0m \u001b[38;5;28mprint\u001b[39m(d[\u001b[38;5;241m0\u001b[39m])\n\u001b[0;32m     80\u001b[0m \u001b[38;5;28mprint\u001b[39m(d[\u001b[38;5;241m1\u001b[39m])\n",
      "Input \u001b[1;32mIn [7]\u001b[0m, in \u001b[0;36mmin_d\u001b[1;34m(src, tag)\u001b[0m\n\u001b[0;32m     46\u001b[0m \u001b[38;5;28;01melif\u001b[39;00m current[\u001b[38;5;241m0\u001b[39m] \u001b[38;5;241m!=\u001b[39m predecessor[\u001b[38;5;241m0\u001b[39m]:\n\u001b[0;32m     47\u001b[0m     trc_src\u001b[38;5;241m.\u001b[39mappend(\u001b[38;5;124m'\u001b[39m\u001b[38;5;124m>\u001b[39m\u001b[38;5;124m'\u001b[39m)\n\u001b[1;32m---> 48\u001b[0m     trc_tag\u001b[38;5;241m.\u001b[39mappend(\u001b[43mtag\u001b[49m\u001b[43m[\u001b[49m\u001b[43mpredecessor\u001b[49m\u001b[43m[\u001b[49m\u001b[38;5;241;43m1\u001b[39;49m\u001b[43m]\u001b[49m\u001b[43m]\u001b[49m)\n\u001b[0;32m     49\u001b[0m     trace \u001b[38;5;241m+\u001b[39m\u001b[38;5;241m=\u001b[39mop[\u001b[38;5;241m1\u001b[39m]\n\u001b[0;32m     51\u001b[0m     \u001b[38;5;66;03m# trc_src += src[predecessor[0]]\u001b[39;00m\n\u001b[0;32m     52\u001b[0m     \u001b[38;5;66;03m# trc_tag += \"-\"\u001b[39;00m\n\u001b[0;32m     53\u001b[0m     \u001b[38;5;66;03m# trace +=op[2]\u001b[39;00m\n\u001b[0;32m     54\u001b[0m \u001b[38;5;28;01melse\u001b[39;00m:\n",
      "\u001b[1;31mIndexError\u001b[0m: string index out of range"
     ]
    }
   ],
   "source": [
    "def min_d(src, tag):\n",
    "    op={0:'s',1:'i',2:'d',3:'m',}\n",
    "    m= len(src)\n",
    "    n = len(tag)\n",
    "    mat = [[0]*(n+1) for _ in range(m+1)]\n",
    "    mat[0] = [*range(n+1)]\n",
    "    \n",
    "    for i in range(1,m+1):mat[i][0]=i\n",
    "        \n",
    "    ops = [[(0,0)]*(n+1) for _ in range(m+1)]    \n",
    "    for i in range(1, m+1): \n",
    "        for j in range(1,n+1): \n",
    "            pi,pj = i-1,j-1\n",
    "            mi,mj,mp = mat[pi][j], mat[i][pj], mat[pi][pj]+1\n",
    "            mat[i][j]= mat[pi][pj] if  src[pi]==tag[pj] else 1+min(mp,mi,mj,)\n",
    "\n",
    "            val = mat[i][j]-1\n",
    "\n",
    "            if  mp == val or src[pi]==tag[pj]:\n",
    "                ops[i][j]= (pi,pj)\n",
    "                \n",
    "            elif val == mj: \n",
    "                ops[i][j]= (i,pj)\n",
    "  \n",
    "            elif val==mi: \n",
    "                ops[i][j]= (pi,j)\n",
    "     \n",
    "    \n",
    "    trc_src, trc_tag =[],[]\n",
    "    i,j = 0,0\n",
    "\n",
    "    current = (m,n)\n",
    "    predecessor = ops[m][n]\n",
    "\n",
    "    \n",
    "\n",
    "    trace= ''\n",
    "    while True : #while not 0,0\n",
    "        if current[0] != predecessor[0] and current[1] != predecessor[1]:\n",
    "            trc_src.append(src[predecessor[0]])\n",
    "            trc_tag.append(tag[predecessor[1]])\n",
    "            if src[predecessor[0]] is tag[predecessor[1]]:\n",
    "                trace += op[3]\n",
    "            else:trace +=op[0]\n",
    "\n",
    "        elif current[0] != predecessor[0]:\n",
    "            # trc_src.append('>')\n",
    "            # trc_tag.append(tag[predecessor[1]])\n",
    "            # trace +=op[1]\n",
    "            \n",
    "            trc_src += src[predecessor[0]]\n",
    "            trc_tag += \"-\"\n",
    "            trace +=op[2]\n",
    "        else:\n",
    "            # trc_src += src[predecessor[0]]\n",
    "            # trc_tag += \"-\"\n",
    "            # trace +=op[2]\n",
    "            \n",
    "            trc_src.append('>')\n",
    "            trc_tag.append(tag[predecessor[1]])\n",
    "            trace +=op[1]\n",
    "        if predecessor == (0,0):\n",
    "            break\n",
    "        current = predecessor\n",
    "        predecessor = ops[current[0]][current[1]]\n",
    "    trace = trace[::-1]\n",
    "    trc_src = trc_src[::-1]\n",
    "    trc_tag = trc_tag[::-1]\n",
    "\n",
    "    trace = ' '.join(trace)\n",
    "    s_trace = ' '.join(trc_src)\n",
    "    t_trace = ' '.join(trc_tag)\n",
    "    return (mat[m][n],'\\n'.join((s_trace,trace, t_trace,'')))\n",
    "\n",
    "\n",
    "#list of snafu cases\n",
    "snafu = [(\"nbruta\",\"boruta\"),(\"elf\",\"level\"),(\"boruta\",\"nbruta\"),(\"level\",\"elves\"),('baa','a'),('baa','aba'),('b','aba')]\n",
    "d=min_d(*snafu[1])\n",
    "print(d[0])\n",
    "print(d[1])\n",
    "\n",
    "    "
   ]
  },
  {
   "cell_type": "markdown",
   "metadata": {
    "id": "Z0g8gfIKukjx"
   },
   "source": [
    "#**Test Cases**\n",
    "To make things easier, you can use your implementation of the algorithm on the test cases provided in the Canvas assignment and indicate the output below."
   ]
  },
  {
   "cell_type": "code",
   "execution_count": 4,
   "metadata": {
    "colab": {
     "base_uri": "https://localhost:8080/"
    },
    "id": "eo4DpQ_gu4_Q",
    "outputId": "4fa42c25-8e9b-44de-f4f8-c7e37c02d776"
   },
   "outputs": [
    {
     "name": "stdout",
     "output_type": "stream",
     "text": [
      "2\n",
      "n b > r u t a\n",
      "d m i m m m m\n",
      "- b o r u t a\n",
      "\n",
      "case1 naruto's son boruto's dad\n",
      "\n",
      "dist:10\n",
      "alignment:\n",
      "n a r u t o ' s   s o n\n",
      "s s m m m m m m m s s s\n",
      "b o r u t o ' s   d a d\n",
      "\n",
      "case2 kumakain kumain\n",
      "\n",
      "dist:2\n",
      "alignment:\n",
      "k u m a k a i n\n",
      "m m m d d m m m\n",
      "k u m - - a i n\n",
      "\n",
      "case3 levinstien levenshtein\n",
      "\n",
      "dist:5\n",
      "alignment:\n",
      "l e v i n s > t i e > n\n",
      "m m m s m m i m d m i m\n",
      "l e v e n s h t - e i n\n",
      "\n",
      "case4 leviathan levenshtein\n",
      "\n",
      "dist:10\n",
      "alignment:\n",
      "l e v > > i a t h a n\n",
      "m m m i i s s m s s m\n",
      "l e v e n s h t e i n\n",
      "\n",
      "case5 TAGCATCCCATGAC CTTATATCCGT\n",
      "\n",
      "dist:11\n",
      "alignment:\n",
      "> T A G C A T C C C A T G A C\n",
      "i m m d s m m d m m d d m d s\n",
      "C T A - T A T - C C - - G - T\n",
      "\n",
      "case6 AGGCTATCACCTGACCTCCAGGCCGATGCCCACCTGG TAGCTATCACGACCGCGGTCGATTTGCCCGACGGTCC\n",
      "\n",
      "dist:18\n",
      "alignment:\n",
      "> A G G C T A T C A C C T G A C C T C C A G G C C G A > > T G C C C > A C C T G G > > >\n",
      "i m d m m m m m m m d m d m m m m d s m d m m s m m m i i m m m m m i m d m d m m i i i\n",
      "T A - G C T A T C A - C - G A C C - G C - G G T C G A T T T G C C C G A - C - G G T C C\n",
      "\n"
     ]
    }
   ],
   "source": [
    "test_cases = {\n",
    "    'case1' : {\n",
    "        'source': \"naruto's son\",\n",
    "        'target': \"boruto's dad\"\n",
    "    },\n",
    "    'case2' : {\n",
    "        'source': \"kumakain\",\n",
    "        'target': \"kumain\"\n",
    "    },\n",
    "    'case3' : {\n",
    "        'source': \"levinstien\",\n",
    "        'target': \"levenshtein\"\n",
    "    },\n",
    "    'case4' : {\n",
    "        'source': \"leviathan\",\n",
    "        'target': \"levenshtein\"\n",
    "    },\n",
    "    'case5' : {\n",
    "        'source': \"TAGCATCCCATGAC\",\n",
    "        'target': \"CTTATATCCGT\"\n",
    "    },\n",
    "    'case6' : {\n",
    "        'source': \"AGGCTATCACCTGACCTCCAGGCCGATGCCCACCTGG\",\n",
    "        'target': \"TAGCTATCACGACCGCGGTCGATTTGCCCGACGGTCC\"\n",
    "    }\n",
    "}\n",
    "for test_case in test_cases.keys():\n",
    "    print(test_case, test_cases[test_case]['source'], test_cases[test_case]['target'])\n",
    "    d=min_d( test_cases[test_case]['source'], test_cases[test_case]['target'])\n",
    "    print('\\n'.join((f'\\ndist:{d[0]}','alignment:',d[1])))\n",
    "   \n",
    "    \n",
    "    \n",
    "  # test your code here through function calls\n"
   ]
  },
  {
   "cell_type": "markdown",
   "metadata": {},
   "source": [
    "tracing from: https://codereview.stackexchange.com/questions/126194/making-the-levenshtein-distance-code-cleaner\n",
    "\n",
    "tracing is still quirky, cannot trace if one string is len 1.\n",
    "\n"
   ]
  }
 ],
 "metadata": {
  "colab": {
   "provenance": []
  },
  "kernelspec": {
   "display_name": "Python 3 (ipykernel)",
   "language": "python",
   "name": "python3"
  },
  "language_info": {
   "codemirror_mode": {
    "name": "ipython",
    "version": 3
   },
   "file_extension": ".py",
   "mimetype": "text/x-python",
   "name": "python",
   "nbconvert_exporter": "python",
   "pygments_lexer": "ipython3",
   "version": "3.9.4"
  }
 },
 "nbformat": 4,
 "nbformat_minor": 4
}
