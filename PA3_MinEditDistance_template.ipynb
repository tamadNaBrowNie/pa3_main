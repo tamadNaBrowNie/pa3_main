{
 "cells": [
  {
   "cell_type": "markdown",
   "metadata": {
    "id": "wt4sVtx0CqPh"
   },
   "source": [
    "# **Programming Assessment \\#3**\n",
    "\n",
    "Name:Shawn Aberin\n",
    "\n",
    "More information on the assessment is found in our Canvas course."
   ]
  },
  {
   "cell_type": "markdown",
   "metadata": {
    "id": "nnzCsnf1E4V1"
   },
   "source": [
    "# **Your Solution**\n",
    "\n",
    "*Kindly place your solution in the code block below. You may use multiple code blocks if you see the need to do so.*"
   ]
  },
  {
   "cell_type": "code",
   "execution_count": 84,
   "metadata": {},
   "outputs": [
    {
     "name": "stderr",
     "output_type": "stream",
     "text": [
      "WARNING: Ignoring invalid distribution -ip (c:\\python39\\lib\\site-packages)"
     ]
    },
    {
     "name": "stdout",
     "output_type": "stream",
     "text": [
      "Requirement already satisfied: icecream in c:\\python39\\lib\\site-packages (2.1.3)"
     ]
    },
    {
     "name": "stderr",
     "output_type": "stream",
     "text": [
      "\n",
      "WARNING: Ignoring invalid distribution -ip (c:\\python39\\lib\\site-packages)"
     ]
    },
    {
     "name": "stdout",
     "output_type": "stream",
     "text": [
      "\n"
     ]
    },
    {
     "name": "stderr",
     "output_type": "stream",
     "text": [
      "\n"
     ]
    },
    {
     "name": "stdout",
     "output_type": "stream",
     "text": [
      "Requirement already satisfied: colorama>=0.3.9 in c:\\users\\shawn\\appdata\\roaming\\python\\python39\\site-packages (from icecream) (0.4.5)\n",
      "Requirement already satisfied: pygments>=2.2.0 in c:\\users\\shawn\\appdata\\roaming\\python\\python39\\site-packages (from icecream) (2.14.0)\n",
      "Requirement already satisfied: executing>=0.3.1 in c:\\users\\shawn\\appdata\\roaming\\python\\python39\\site-packages (from icecream) (0.8.3)\n",
      "Requirement already satisfied: asttokens>=2.0.1 in c:\\users\\shawn\\appdata\\roaming\\python\\python39\\site-packages (from icecream) (2.0.5)\n",
      "Requirement already satisfied: six in c:\\users\\shawn\\appdata\\roaming\\python\\python39\\site-packages (from asttokens>=2.0.1->icecream) (1.16.0)\n"
     ]
    }
   ],
   "source": [
    "!pip install icecream"
   ]
  },
  {
   "cell_type": "code",
   "execution_count": 253,
   "metadata": {
    "id": "gfXU5Xc4E_ud"
   },
   "outputs": [],
   "source": [
    "from numpy import argmin\n",
    "from icecream  import ic\n",
    "def editDistance(src, tag):\n",
    "    op={0:'s',1:'i',2:'d',3:'m',}\n",
    "    m= len(src)\n",
    "    n = len(tag)\n",
    "    mat = [[0]*(n+1) for _ in range(m+1)]\n",
    "    mat[0] = [*range(n+1)]\n",
    "    \n",
    "    for i in range(1,m+1):mat[i][0]=i\n",
    "        \n",
    "    ops = [['']*(n+1) for _ in range(m+1)]    \n",
    "    ops = []\n",
    "    for j in range(1, n+1):                \n",
    "        for i in range(1,m+1): \n",
    "            pi,pj = i-1,j-1\n",
    "            mi,mj,mp = mat[pi][j], mat[i][pj], mat[pi][pj]+1\n",
    "            mat[i][j]= mat[pi][pj] if  src[pi]==tag[pj] else 1+min(mp,mj,mi,)\n",
    "            ind = 3 if src[i]==tag[j] else argmin([mp,mi,mj],)\n",
    "            # print(mat[i][j],src[pi],tag[pj],op[argmin([mp,mi,mj])])\n",
    "    #         ops[i][j] = ''\n",
    "    #         ic.disable()\n",
    "    #         val = mat[i][j]-1\n",
    "    #         if  mp == val:\n",
    "    #             ops[i][j]= ops[pi][pj]+op[0]\n",
    "                \n",
    "    #             ic(pi,pj)\n",
    "                \n",
    "    #         elif val == mj: \n",
    "    #             ops[i][j]=ops[i][pj]+op[1]\n",
    "    \n",
    "    #             ic(i,pj)\n",
    "                \n",
    "    #         elif val==mi: \n",
    "    #             ops[i][j] = ops[pi][j]+op[2]\n",
    "                \n",
    "    #             ic(pi,j)\n",
    "            \n",
    "    #         elif src[pi]==tag[pj]:\n",
    "                \n",
    "    #             ops[i][j] = ops[pi][pj]+op[3]\n",
    "    \n",
    "    #             ic(pi,pj)\n",
    "    # trace = ops[m][n]\n",
    "\n",
    "    \n",
    "    # back tracing failed\n",
    "    \n",
    "    ops = []       \n",
    "    i, j = 0,0\n",
    "    while i < m or j < n:\n",
    "        print(i,j)\n",
    "        ni,nj = i+1,j+1\n",
    "        mi,mj,mp = mat[i][nj], mat[ni][j], mat[i][j]+1\n",
    "        print(mi,mj,mp)\n",
    "        # print(mp == mi, mj == mi, mp == mj)\n",
    "        ind = 3 if src[i]==tag[j] else argmin([mp,mi,mj],)\n",
    "        ops.append(op[ind])\n",
    "        i,j = (i,nj) if ind ==1 else (ni,j) if ind ==2 else (ni,nj)\n",
    "    trace = ops\n",
    "\n",
    "    trc_src, trc_tag =[],[]\n",
    "    i,j = 0,0\n",
    "    \n",
    "    \n",
    "    r_tag = tag\n",
    "    \n",
    "    for c in trace:\n",
    "        # print(i,j)\n",
    "        s,t ='',''\n",
    "        if c==op[3] or c==op[0]:\n",
    "            s,t=(src[i],r_tag[j])\n",
    "            i+=1\n",
    "            j+=1\n",
    "        elif c==op[2]:\n",
    "            s,t = (src[i],'_')\n",
    "            i+=1\n",
    "        elif c == op[1]:\n",
    "            s,t=('>',r_tag[j])\n",
    "            j+=1\n",
    "        trc_src.append(s)\n",
    "        trc_tag.append(t)\n",
    "    trace = ' '.join(trace)\n",
    "    s_trace = ' '.join(trc_src)\n",
    "    t_trace = ' '.join(trc_tag)\n",
    "    return (mat[m][n],'\\n'.join((s_trace,trace, t_trace,'')))\n",
    "ic.enable()\n",
    "#F IT I AM BACKTRACKING THIS\n",
    "#list of snafu cases\n",
    "snafu = [(\"nbruta\",\"boruta\"),(\"elf\",\"level\"),(\"boruta\",\"nbruta\"),(\"level\",\"elves\"),('a','baa'),('baa','aba')]\n",
    "# d=editDistance(*snafu[4])\n",
    "# print(d[1])"
   ]
  },
  {
   "cell_type": "markdown",
   "metadata": {
    "id": "Z0g8gfIKukjx"
   },
   "source": [
    "#**Test Cases**\n",
    "To make things easier, you can use your implementation of the algorithm on the test cases provided in the Canvas assignment and indicate the output below."
   ]
  },
  {
   "cell_type": "code",
   "execution_count": 254,
   "metadata": {
    "colab": {
     "base_uri": "https://localhost:8080/"
    },
    "id": "eo4DpQ_gu4_Q",
    "outputId": "4fa42c25-8e9b-44de-f4f8-c7e37c02d776"
   },
   "outputs": [
    {
     "name": "stdout",
     "output_type": "stream",
     "text": [
      "case1 naruto's son boruto's dad\n",
      "0 0\n",
      "1 1 1\n",
      "1 1\n",
      "3 3 3\n",
      "2 2\n",
      "5 5 5\n",
      "3 3\n",
      "5 5 5\n",
      "4 4\n",
      "5 5 5\n",
      "5 5\n",
      "5 5 5\n",
      "6 6\n",
      "5 5 5\n",
      "7 7\n",
      "5 5 5\n",
      "8 8\n",
      "5 5 5\n",
      "9 9\n",
      "5 5 5\n",
      "10 10\n",
      "7 7 7\n",
      "11 11\n",
      "9 9 9\n",
      "\n",
      "dist:10\n",
      "alignment:\n",
      "n a r u t o ' s   s o n\n",
      "s s m m m m m m m s s s\n",
      "b o r u t o ' s   d a d\n",
      "\n",
      "case2 kumakain kumain\n",
      "0 0\n",
      "1 1 1\n",
      "1 1\n",
      "1 1 1\n",
      "2 2\n",
      "1 1 1\n",
      "3 3\n",
      "1 1 1\n",
      "4 4\n",
      "1 1 1\n",
      "5 5\n",
      "3 3 3\n",
      "6 6\n"
     ]
    },
    {
     "ename": "IndexError",
     "evalue": "list index out of range",
     "output_type": "error",
     "traceback": [
      "\u001b[1;31m---------------------------------------------------------------------------\u001b[0m",
      "\u001b[1;31mIndexError\u001b[0m                                Traceback (most recent call last)",
      "Input \u001b[1;32mIn [254]\u001b[0m, in \u001b[0;36m<cell line: 28>\u001b[1;34m()\u001b[0m\n\u001b[0;32m     28\u001b[0m \u001b[38;5;28;01mfor\u001b[39;00m test_case \u001b[38;5;129;01min\u001b[39;00m test_cases\u001b[38;5;241m.\u001b[39mkeys():\n\u001b[0;32m     29\u001b[0m     \u001b[38;5;28mprint\u001b[39m(test_case, test_cases[test_case][\u001b[38;5;124m'\u001b[39m\u001b[38;5;124msource\u001b[39m\u001b[38;5;124m'\u001b[39m], test_cases[test_case][\u001b[38;5;124m'\u001b[39m\u001b[38;5;124mtarget\u001b[39m\u001b[38;5;124m'\u001b[39m])\n\u001b[1;32m---> 30\u001b[0m     d\u001b[38;5;241m=\u001b[39m\u001b[43meditDistance\u001b[49m\u001b[43m(\u001b[49m\u001b[43m \u001b[49m\u001b[43mtest_cases\u001b[49m\u001b[43m[\u001b[49m\u001b[43mtest_case\u001b[49m\u001b[43m]\u001b[49m\u001b[43m[\u001b[49m\u001b[38;5;124;43m'\u001b[39;49m\u001b[38;5;124;43msource\u001b[39;49m\u001b[38;5;124;43m'\u001b[39;49m\u001b[43m]\u001b[49m\u001b[43m,\u001b[49m\u001b[43m \u001b[49m\u001b[43mtest_cases\u001b[49m\u001b[43m[\u001b[49m\u001b[43mtest_case\u001b[49m\u001b[43m]\u001b[49m\u001b[43m[\u001b[49m\u001b[38;5;124;43m'\u001b[39;49m\u001b[38;5;124;43mtarget\u001b[39;49m\u001b[38;5;124;43m'\u001b[39;49m\u001b[43m]\u001b[49m\u001b[43m)\u001b[49m\n\u001b[0;32m     31\u001b[0m     \u001b[38;5;28mprint\u001b[39m(\u001b[38;5;124m'\u001b[39m\u001b[38;5;130;01m\\n\u001b[39;00m\u001b[38;5;124m'\u001b[39m\u001b[38;5;241m.\u001b[39mjoin((\u001b[38;5;124mf\u001b[39m\u001b[38;5;124m'\u001b[39m\u001b[38;5;130;01m\\n\u001b[39;00m\u001b[38;5;124mdist:\u001b[39m\u001b[38;5;132;01m{\u001b[39;00md[\u001b[38;5;241m0\u001b[39m]\u001b[38;5;132;01m}\u001b[39;00m\u001b[38;5;124m'\u001b[39m,\u001b[38;5;124m'\u001b[39m\u001b[38;5;124malignment:\u001b[39m\u001b[38;5;124m'\u001b[39m,d[\u001b[38;5;241m1\u001b[39m])))\n",
      "Input \u001b[1;32mIn [253]\u001b[0m, in \u001b[0;36meditDistance\u001b[1;34m(src, tag)\u001b[0m\n\u001b[0;32m     51\u001b[0m \u001b[38;5;28mprint\u001b[39m(i,j)\n\u001b[0;32m     52\u001b[0m ni,nj \u001b[38;5;241m=\u001b[39m i\u001b[38;5;241m+\u001b[39m\u001b[38;5;241m1\u001b[39m,j\u001b[38;5;241m+\u001b[39m\u001b[38;5;241m1\u001b[39m\n\u001b[1;32m---> 53\u001b[0m mi,mj,mp \u001b[38;5;241m=\u001b[39m \u001b[43mmat\u001b[49m\u001b[43m[\u001b[49m\u001b[43mi\u001b[49m\u001b[43m]\u001b[49m\u001b[43m[\u001b[49m\u001b[43mnj\u001b[49m\u001b[43m]\u001b[49m, mat[ni][j], mat[i][j]\u001b[38;5;241m+\u001b[39m\u001b[38;5;241m1\u001b[39m\n\u001b[0;32m     54\u001b[0m \u001b[38;5;28mprint\u001b[39m(mi,mj,mp)\n\u001b[0;32m     55\u001b[0m \u001b[38;5;66;03m# print(mp == mi, mj == mi, mp == mj)\u001b[39;00m\n",
      "\u001b[1;31mIndexError\u001b[0m: list index out of range"
     ]
    }
   ],
   "source": [
    "test_cases = {\n",
    "    'case1' : {\n",
    "        'source': \"naruto's son\",\n",
    "        'target': \"boruto's dad\"\n",
    "    },\n",
    "    'case2' : {\n",
    "        'source': \"kumakain\",\n",
    "        'target': \"kumain\"\n",
    "    },\n",
    "    'case3' : {\n",
    "        'source': \"levinstien\",\n",
    "        'target': \"levenshtein\"\n",
    "    },\n",
    "    'case4' : {\n",
    "        'source': \"leviathan\",\n",
    "        'target': \"levenshtein\"\n",
    "    },\n",
    "    'case5' : {\n",
    "        'source': \"TAGCATCCCATGAC\",\n",
    "        'target': \"CTTATATCCGT\"\n",
    "    },\n",
    "    'case6' : {\n",
    "        'source': \"AGGCTATCACCTGACCTCCAGGCCGATGCCCACCTGG\",\n",
    "        'target': \"TAGCTATCACGACCGCGGTCGATTTGCCCGACGGTCC\"\n",
    "    }\n",
    "}\n",
    "ic.disable()\n",
    "for test_case in test_cases.keys():\n",
    "    print(test_case, test_cases[test_case]['source'], test_cases[test_case]['target'])\n",
    "    d=editDistance( test_cases[test_case]['source'], test_cases[test_case]['target'])\n",
    "    print('\\n'.join((f'\\ndist:{d[0]}','alignment:',d[1])))\n",
    "   \n",
    "    \n",
    "    \n",
    "  # test your code here through function calls\n"
   ]
  },
  {
   "cell_type": "code",
   "execution_count": null,
   "metadata": {},
   "outputs": [],
   "source": []
  }
 ],
 "metadata": {
  "colab": {
   "provenance": []
  },
  "kernelspec": {
   "display_name": "Python 3 (ipykernel)",
   "language": "python",
   "name": "python3"
  },
  "language_info": {
   "codemirror_mode": {
    "name": "ipython",
    "version": 3
   },
   "file_extension": ".py",
   "mimetype": "text/x-python",
   "name": "python",
   "nbconvert_exporter": "python",
   "pygments_lexer": "ipython3",
   "version": "3.9.4"
  }
 },
 "nbformat": 4,
 "nbformat_minor": 4
}
