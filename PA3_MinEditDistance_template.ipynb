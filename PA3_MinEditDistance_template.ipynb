{
 "cells": [
  {
   "cell_type": "markdown",
   "metadata": {
    "id": "wt4sVtx0CqPh"
   },
   "source": [
    "# **Programming Assessment \\#3**\n",
    "\n",
    "Name:Shawn Aberin\n",
    "\n",
    "More information on the assessment is found in our Canvas course."
   ]
  },
  {
   "cell_type": "markdown",
   "metadata": {
    "id": "nnzCsnf1E4V1"
   },
   "source": [
    "# **Your Solution**\n",
    "\n",
    "*Kindly place your solution in the code block below. You may use multiple code blocks if you see the need to do so.*"
   ]
  },
  {
   "cell_type": "code",
   "execution_count": 84,
   "metadata": {},
   "outputs": [
    {
     "name": "stderr",
     "output_type": "stream",
     "text": [
      "WARNING: Ignoring invalid distribution -ip (c:\\python39\\lib\\site-packages)"
     ]
    },
    {
     "name": "stdout",
     "output_type": "stream",
     "text": [
      "Requirement already satisfied: icecream in c:\\python39\\lib\\site-packages (2.1.3)"
     ]
    },
    {
     "name": "stderr",
     "output_type": "stream",
     "text": [
      "\n",
      "WARNING: Ignoring invalid distribution -ip (c:\\python39\\lib\\site-packages)"
     ]
    },
    {
     "name": "stdout",
     "output_type": "stream",
     "text": [
      "\n"
     ]
    },
    {
     "name": "stderr",
     "output_type": "stream",
     "text": [
      "\n"
     ]
    },
    {
     "name": "stdout",
     "output_type": "stream",
     "text": [
      "Requirement already satisfied: colorama>=0.3.9 in c:\\users\\shawn\\appdata\\roaming\\python\\python39\\site-packages (from icecream) (0.4.5)\n",
      "Requirement already satisfied: pygments>=2.2.0 in c:\\users\\shawn\\appdata\\roaming\\python\\python39\\site-packages (from icecream) (2.14.0)\n",
      "Requirement already satisfied: executing>=0.3.1 in c:\\users\\shawn\\appdata\\roaming\\python\\python39\\site-packages (from icecream) (0.8.3)\n",
      "Requirement already satisfied: asttokens>=2.0.1 in c:\\users\\shawn\\appdata\\roaming\\python\\python39\\site-packages (from icecream) (2.0.5)\n",
      "Requirement already satisfied: six in c:\\users\\shawn\\appdata\\roaming\\python\\python39\\site-packages (from asttokens>=2.0.1->icecream) (1.16.0)\n"
     ]
    }
   ],
   "source": [
    "!pip install icecream"
   ]
  },
  {
   "cell_type": "code",
   "execution_count": 315,
   "metadata": {
    "id": "gfXU5Xc4E_ud"
   },
   "outputs": [
    {
     "name": "stdout",
     "output_type": "stream",
     "text": [
      "1\n",
      "mi\n"
     ]
    },
    {
     "ename": "NameError",
     "evalue": "name 'r' is not defined",
     "output_type": "error",
     "traceback": [
      "\u001b[1;31m---------------------------------------------------------------------------\u001b[0m",
      "\u001b[1;31mNameError\u001b[0m                                 Traceback (most recent call last)",
      "Input \u001b[1;32mIn [315]\u001b[0m, in \u001b[0;36m<cell line: 113>\u001b[1;34m()\u001b[0m\n\u001b[0;32m    109\u001b[0m \u001b[38;5;66;03m#F IT I AM BACKTRACKING THIS\u001b[39;00m\n\u001b[0;32m    110\u001b[0m \u001b[38;5;66;03m#FUCK THIS IMMA DO TWO ROW FROM BAELDUNG, IAMN FUCKING DEESPERATE\u001b[39;00m\n\u001b[0;32m    111\u001b[0m \u001b[38;5;66;03m#list of snafu cases\u001b[39;00m\n\u001b[0;32m    112\u001b[0m snafu \u001b[38;5;241m=\u001b[39m [(\u001b[38;5;124m\"\u001b[39m\u001b[38;5;124mnbruta\u001b[39m\u001b[38;5;124m\"\u001b[39m,\u001b[38;5;124m\"\u001b[39m\u001b[38;5;124mboruta\u001b[39m\u001b[38;5;124m\"\u001b[39m),(\u001b[38;5;124m\"\u001b[39m\u001b[38;5;124melf\u001b[39m\u001b[38;5;124m\"\u001b[39m,\u001b[38;5;124m\"\u001b[39m\u001b[38;5;124mlevel\u001b[39m\u001b[38;5;124m\"\u001b[39m),(\u001b[38;5;124m\"\u001b[39m\u001b[38;5;124mboruta\u001b[39m\u001b[38;5;124m\"\u001b[39m,\u001b[38;5;124m\"\u001b[39m\u001b[38;5;124mnbruta\u001b[39m\u001b[38;5;124m\"\u001b[39m),(\u001b[38;5;124m\"\u001b[39m\u001b[38;5;124mlevel\u001b[39m\u001b[38;5;124m\"\u001b[39m,\u001b[38;5;124m\"\u001b[39m\u001b[38;5;124melves\u001b[39m\u001b[38;5;124m\"\u001b[39m),(\u001b[38;5;124m'\u001b[39m\u001b[38;5;124ma\u001b[39m\u001b[38;5;124m'\u001b[39m,\u001b[38;5;124m'\u001b[39m\u001b[38;5;124mbaa\u001b[39m\u001b[38;5;124m'\u001b[39m),(\u001b[38;5;124m'\u001b[39m\u001b[38;5;124mbaa\u001b[39m\u001b[38;5;124m'\u001b[39m,\u001b[38;5;124m'\u001b[39m\u001b[38;5;124maba\u001b[39m\u001b[38;5;124m'\u001b[39m)]\n\u001b[1;32m--> 113\u001b[0m d\u001b[38;5;241m=\u001b[39m\u001b[43meditDistance\u001b[49m\u001b[43m(\u001b[49m\u001b[38;5;241;43m*\u001b[39;49m\u001b[43msnafu\u001b[49m\u001b[43m[\u001b[49m\u001b[38;5;241;43m4\u001b[39;49m\u001b[43m]\u001b[49m\u001b[43m)\u001b[49m\n\u001b[0;32m    114\u001b[0m \u001b[38;5;28mprint\u001b[39m(d[\u001b[38;5;241m0\u001b[39m])\n",
      "Input \u001b[1;32mIn [315]\u001b[0m, in \u001b[0;36meditDistance\u001b[1;34m(src, tag)\u001b[0m\n\u001b[0;32m    105\u001b[0m t_trace \u001b[38;5;241m=\u001b[39m \u001b[38;5;124m'\u001b[39m\u001b[38;5;124m \u001b[39m\u001b[38;5;124m'\u001b[39m\u001b[38;5;241m.\u001b[39mjoin(trc_tag)\n\u001b[0;32m    106\u001b[0m \u001b[38;5;66;03m# return (mat[m][n],'\\n'.join((s_trace,trace, t_trace,'')))\u001b[39;00m\n\u001b[1;32m--> 107\u001b[0m \u001b[38;5;28;01mreturn\u001b[39;00m (\u001b[43mr\u001b[49m[n],\u001b[38;5;124m'\u001b[39m\u001b[38;5;130;01m\\n\u001b[39;00m\u001b[38;5;124m'\u001b[39m\u001b[38;5;241m.\u001b[39mjoin((s_trace,trace, t_trace,\u001b[38;5;124m'\u001b[39m\u001b[38;5;124m'\u001b[39m)))\n",
      "\u001b[1;31mNameError\u001b[0m: name 'r' is not defined"
     ]
    }
   ],
   "source": [
    "from numpy import argmin\n",
    "from icecream  import ic\n",
    "def editDistance(src, tag):\n",
    "    op={0:'s',1:'i',2:'d',3:'m',}\n",
    "    m= len(src)\n",
    "    n = len(tag)\n",
    "    mat = [[0]*(n+1) for _ in range(m+1)]\n",
    "    mat[0] = [*range(n+1)]\n",
    "    \n",
    "    for i in range(1,m+1):mat[i][0]=i\n",
    "        \n",
    "    ops = [['']*(n+1) for _ in range(m+1)]    \n",
    "    \n",
    "    for i in range(1, m+1): \n",
    "        print(i)\n",
    "        for j in range(1,n+1): \n",
    "            pi,pj = i-1,j-1\n",
    "            mi,mj,mp = mat[pi][j], mat[i][pj], mat[pi][pj]+1\n",
    "            mat[i][j]= mat[pi][pj] if  src[pi]==tag[pj] else 1+min(mp,mj,mi,)\n",
    "            ind = 3 if src[pi]==tag[pj] else argmin([mp,mi,mj],)\n",
    "            # print(mat[i][j],src[pi],tag[pj],op[argmin([mp,mi,mj])])\n",
    "            ops[i][j] = ''\n",
    "            ic.disable()\n",
    "            val = mat[i][j]-1\n",
    "            if  mp == val:\n",
    "                ops[i][j]= ops[pi][pj]+op[0]\n",
    "                \n",
    "                ic(pi,pj)\n",
    "                \n",
    "            elif val == mj: \n",
    "                ops[i][j]=ops[i][pj]+op[1]\n",
    "    \n",
    "                ic(i,pj)\n",
    "                \n",
    "            elif val==mi: \n",
    "                ops[i][j] = ops[pi][j]+op[2]\n",
    "                \n",
    "                ic(pi,j)\n",
    "            \n",
    "            elif src[pi]==tag[pj]:\n",
    "                \n",
    "                ops[i][j] = ops[pi][pj]+op[3]\n",
    "    \n",
    "                ic(pi,pj)\n",
    "    trace = ops[m][n]\n",
    "\n",
    "    \n",
    "    # back tracing failed\n",
    "    \n",
    "\n",
    "    \n",
    "    \n",
    "    r_tag = tag\n",
    "    # cur = [0 for i in range(n+1)]\n",
    "    # r = [*range(n+1)]\n",
    "    \n",
    "    # pi = 0\n",
    "    # for i in range(m):\n",
    "    #     print(i)\n",
    "    #     cur[0] = i+1\n",
    "    #     for j in range(n):\n",
    "    #         nj = j+1\n",
    "    #         sub = r[j]+1\n",
    "    #         rm = r[nj]\n",
    "    #         ins = cur[j] +1\n",
    "    #         # print(j)\n",
    "    #         if src[i]==tag[j]:\n",
    "    #             ops[i+1][nj] = ops[i][j]+op[3]\n",
    "    #             cur[nj] = sub-1\n",
    "    #         else:\n",
    "    #             cur[nj] = 1+min(sub,ins,rm,)\n",
    "    #             val = cur[nj] -1\n",
    "    #             if  val == sub:\n",
    "    #                 ops[i+1][j+1]= ops[i][j]+op[0]\n",
    "    #             elif val == ins: \n",
    "    #                 ops[i+1][j+1]=ops[i+1][j]+op[1]\n",
    "    #             elif val==rm: \n",
    "    #                 ops[i+1][j+1] = ops[i][j+1]+op[2]\n",
    "\n",
    "\n",
    "    #     r = cur\n",
    "            \n",
    "    \n",
    "    trc_src, trc_tag =[],[]\n",
    "    i,j = 0,0\n",
    "    trace = ops[m][n]\n",
    "    print(trace)\n",
    "    for c in trace:\n",
    "        # print(i,j)\n",
    "        s,t ='',''\n",
    "        if c==op[3] or c==op[0]:\n",
    "            s,t=(src[i],r_tag[j])\n",
    "            i+=1\n",
    "            j+=1\n",
    "        elif c==op[2]:\n",
    "            s,t = (src[i],'_')\n",
    "            i+=1\n",
    "        elif c == op[1]:\n",
    "            s,t=('>',r_tag[j])\n",
    "            j+=1\n",
    "        trc_src.append(s)\n",
    "        trc_tag.append(t)\n",
    "    trace = ' '.join(trace)\n",
    "    s_trace = ' '.join(trc_src)\n",
    "    t_trace = ' '.join(trc_tag)\n",
    "    # return (mat[m][n],'\\n'.join((s_trace,trace, t_trace,'')))\n",
    "    return (mat[m][n],'\\n'.join((s_trace,trace, t_trace,'')))\n",
    "ic.enable()\n",
    "#F IT I AM BACKTRACKING THIS\n",
    "#FUCK THIS IMMA DO TWO ROW FROM BAELDUNG, IAMN FUCKING DEESPERATE\n",
    "#list of snafu cases\n",
    "snafu = [(\"nbruta\",\"boruta\"),(\"elf\",\"level\"),(\"boruta\",\"nbruta\"),(\"level\",\"elves\"),('a','baa'),('baa','aba')]\n",
    "d=editDistance(*snafu[4])\n",
    "print(d[0])\n",
    "\n",
    "    "
   ]
  },
  {
   "cell_type": "markdown",
   "metadata": {},
   "source": [
    "![alt text](ifedmyself.svg \"Title\")"
   ]
  },
  {
   "cell_type": "markdown",
   "metadata": {
    "id": "Z0g8gfIKukjx"
   },
   "source": [
    "#**Test Cases**\n",
    "To make things easier, you can use your implementation of the algorithm on the test cases provided in the Canvas assignment and indicate the output below."
   ]
  },
  {
   "cell_type": "markdown",
   "metadata": {},
   "source": [
    "I AM DOING THIS TO KEEP SANITY"
   ]
  },
  {
   "cell_type": "code",
   "execution_count": 308,
   "metadata": {
    "colab": {
     "base_uri": "https://localhost:8080/"
    },
    "id": "eo4DpQ_gu4_Q",
    "outputId": "4fa42c25-8e9b-44de-f4f8-c7e37c02d776"
   },
   "outputs": [
    {
     "name": "stdout",
     "output_type": "stream",
     "text": [
      "case1 naruto's son boruto's dad\n",
      "0\n",
      "1\n",
      "2\n",
      "3\n",
      "4\n",
      "5\n",
      "6\n",
      "7\n",
      "8\n",
      "9\n",
      "10\n",
      "11\n",
      "sdmmmmmmmsss\n",
      "\n",
      "dist:20\n",
      "alignment:\n",
      "n a r u t o ' s   s o n\n",
      "s d m m m m m m m s s s\n",
      "b _ o r u t o ' s   d a\n",
      "\n",
      "case2 kumakain kumain\n",
      "0\n",
      "1\n",
      "2\n",
      "3\n",
      "4\n",
      "5\n",
      "6\n",
      "7\n",
      "mmmddmmm\n",
      "\n",
      "dist:7\n",
      "alignment:\n",
      "k u m a k a i n\n",
      "m m m d d m m m\n",
      "k u m _ _ a i n\n",
      "\n",
      "case3 levinstien levenshtein\n",
      "0\n",
      "1\n",
      "2\n",
      "3\n",
      "4\n",
      "5\n",
      "6\n",
      "7\n",
      "8\n",
      "9\n",
      "misssssmssm\n",
      "\n",
      "dist:15\n",
      "alignment:\n",
      "l > e v i n s t i e n\n",
      "m i s s s s s m s s m\n",
      "l e v e n s h t e i n\n",
      "\n",
      "case4 leviathan levenshtein\n",
      "0\n",
      "1\n",
      "2\n",
      "3\n",
      "4\n",
      "5\n",
      "6\n",
      "7\n",
      "8\n",
      "smdmddddm\n",
      "\n",
      "dist:17\n",
      "alignment:\n",
      "l e v i a t h a n\n",
      "s m d m d d d d m\n",
      "l e _ v _ _ _ _ e\n",
      "\n",
      "case5 TAGCATCCCATGAC CTTATATCCGT\n",
      "0\n",
      "1\n",
      "2\n",
      "3\n",
      "4\n",
      "5\n",
      "6\n",
      "7\n",
      "8\n",
      "9\n",
      "10\n",
      "11\n",
      "12\n",
      "13\n",
      "mmdsmmdmmddmds\n",
      "\n",
      "dist:19\n",
      "alignment:\n",
      "T A G C A T C C C A T G A C\n",
      "m m d s m m d m m d d m d s\n",
      "C T _ T A T _ A T _ _ C _ C\n",
      "\n",
      "case6 AGGCTATCACCTGACCTCCAGGCCGATGCCCACCTGG TAGCTATCACGACCGCGGTCGATTTGCCCGACGGTCC\n",
      "0\n",
      "1\n",
      "2\n",
      "3\n",
      "4\n",
      "5\n",
      "6\n",
      "7\n",
      "8\n",
      "9\n",
      "10\n",
      "11\n",
      "12\n",
      "13\n",
      "14\n",
      "15\n",
      "16\n",
      "17\n",
      "18\n",
      "19\n",
      "20\n",
      "21\n",
      "22\n",
      "23\n",
      "24\n",
      "25\n",
      "26\n",
      "27\n",
      "28\n",
      "29\n",
      "30\n",
      "31\n",
      "32\n",
      "33\n",
      "34\n",
      "35\n",
      "36\n",
      "mdsmddsmssssmmssmdddddddmdssmsssssmss\n",
      "\n",
      "dist:49\n",
      "alignment:\n",
      "A G G C T A T C A C C T G A C C T C C A G G C C G A T G C C C A C C T G G\n",
      "m d s m d d s m s s s s m m s s m d d d d d d d m d s s m s s s s s m s s\n",
      "T _ A G _ _ C T A T C A C G A C C _ _ _ _ _ _ _ G _ C G G T C G A T T T G\n",
      "\n"
     ]
    }
   ],
   "source": [
    "test_cases = {\n",
    "    'case1' : {\n",
    "        'source': \"naruto's son\",\n",
    "        'target': \"boruto's dad\"\n",
    "    },\n",
    "    'case2' : {\n",
    "        'source': \"kumakain\",\n",
    "        'target': \"kumain\"\n",
    "    },\n",
    "    'case3' : {\n",
    "        'source': \"levinstien\",\n",
    "        'target': \"levenshtein\"\n",
    "    },\n",
    "    'case4' : {\n",
    "        'source': \"leviathan\",\n",
    "        'target': \"levenshtein\"\n",
    "    },\n",
    "    'case5' : {\n",
    "        'source': \"TAGCATCCCATGAC\",\n",
    "        'target': \"CTTATATCCGT\"\n",
    "    },\n",
    "    'case6' : {\n",
    "        'source': \"AGGCTATCACCTGACCTCCAGGCCGATGCCCACCTGG\",\n",
    "        'target': \"TAGCTATCACGACCGCGGTCGATTTGCCCGACGGTCC\"\n",
    "    }\n",
    "}\n",
    "ic.disable()\n",
    "for test_case in test_cases.keys():\n",
    "    print(test_case, test_cases[test_case]['source'], test_cases[test_case]['target'])\n",
    "    d=editDistance( test_cases[test_case]['source'], test_cases[test_case]['target'])\n",
    "    print('\\n'.join((f'\\ndist:{d[0]}','alignment:',d[1])))\n",
    "   \n",
    "    \n",
    "    \n",
    "  # test your code here through function calls\n"
   ]
  },
  {
   "cell_type": "markdown",
   "metadata": {},
   "source": [
    "GUID ME LORD\n",
    "source: https://www.baeldung.com/cs/levenshtein-distance-computation\n"
   ]
  }
 ],
 "metadata": {
  "colab": {
   "provenance": []
  },
  "kernelspec": {
   "display_name": "Python 3 (ipykernel)",
   "language": "python",
   "name": "python3"
  },
  "language_info": {
   "codemirror_mode": {
    "name": "ipython",
    "version": 3
   },
   "file_extension": ".py",
   "mimetype": "text/x-python",
   "name": "python",
   "nbconvert_exporter": "python",
   "pygments_lexer": "ipython3",
   "version": "3.9.4"
  }
 },
 "nbformat": 4,
 "nbformat_minor": 4
}
