{
 "cells": [
  {
   "cell_type": "markdown",
   "metadata": {
    "id": "wt4sVtx0CqPh"
   },
   "source": [
    "# **Programming Assessment \\#3**\n",
    "\n",
    "Name:Shawn Aberin\n",
    "\n",
    "More information on the assessment is found in our Canvas course."
   ]
  },
  {
   "cell_type": "markdown",
   "metadata": {
    "id": "nnzCsnf1E4V1"
   },
   "source": [
    "# **Your Solution**\n",
    "\n",
    "*Kindly place your solution in the code block below. You may use multiple code blocks if you see the need to do so.*"
   ]
  },
  {
   "cell_type": "code",
   "execution_count": 80,
   "metadata": {
    "id": "gfXU5Xc4E_ud"
   },
   "outputs": [],
   "source": [
    "def editDistance(s: str, t: str) -> int:\n",
    "    m= len(s)\n",
    "    n = len(t)\n",
    "    mat = [[0]*(n+1) for _ in range(m+1)]\n",
    "    mat[0] = [*range(n+1)]\n",
    "    ops = [['']*(n+1) for _ in range(m+1)]\n",
    "    for i in range(1,m+1):mat[i][0]=i\n",
    "    # print(mat)\n",
    "    u = ''\n",
    "    for j in range(1, n + 1):\n",
    "        for i in range(1, m + 1):\n",
    "            di,dj = 0,0\n",
    "            cost,a = (1,'m') if s[i - 1] == t[j - 1] else (2,'s')\n",
    "            mat[i][j] = min(mat[i - 1][j] + 1, mat[i][j - 1] + 1,  mat[i - 1][j - 1]+ cost)  \n",
    "            if mat[i][j]== mat[i - 1][j - 1]+ cost :di,dj = 1,1\n",
    "            elif mat[i][j] == mat[i - 1][j] + 1:di, a= 1,'d'  \n",
    "            elif mat[i][j]  == mat[i][j - 1] + 1:dj, a = 1,'i'\n",
    "            \n",
    "            ops[i][j]+=''.join((ops[i-di][j-dj],a))\n",
    "            a = '_'\n",
    "            # print(ops[i][j],i,j)\n",
    "    print(ops[m][n])\n",
    "    return mat[m][n]"
   ]
  },
  {
   "cell_type": "markdown",
   "metadata": {
    "id": "Z0g8gfIKukjx"
   },
   "source": [
    "#**Test Cases**\n",
    "To make things easier, you can use your implementation of the algorithm on the test cases provided in the Canvas assignment and indicate the output below."
   ]
  },
  {
   "cell_type": "code",
   "execution_count": 82,
   "metadata": {
    "colab": {
     "base_uri": "https://localhost:8080/"
    },
    "id": "eo4DpQ_gu4_Q",
    "outputId": "4fa42c25-8e9b-44de-f4f8-c7e37c02d776"
   },
   "outputs": [
    {
     "name": "stdout",
     "output_type": "stream",
     "text": [
      "case1 naruto's son boruto's dad\n",
      "ssmmmmmmmsss\n",
      "17\n",
      "case2 kumakain kumain\n",
      "mmmddmmm\n",
      "8\n",
      "case3 levinstien levenshtein\n",
      "mmmsmmimimdm\n",
      "13\n",
      "case4 leviathan levenshtein\n",
      "mmmiissmssm\n",
      "15\n",
      "case5 ATGCATCCCATGAC TCTATATCCGT\n",
      "mdmimmismmddmds\n",
      "18\n",
      "case6 AGGCTATCACCTGACCTCCAGGCCGATGCCCACCTGG TAGCTATCACGACCGCGGTCGATTTGCCCGACGGTCC\n",
      "mdmmmmmmmdmdmmmmdsmdmmsmmmiimmmmmimdmdmmiii\n",
      "46\n"
     ]
    }
   ],
   "source": [
    "test_cases = {\n",
    "    'case1' : {\n",
    "        'source': \"naruto's son\",\n",
    "        'target': \"boruto's dad\"\n",
    "    },\n",
    "    'case2' : {\n",
    "        'source': \"kumakain\",\n",
    "        'target': \"kumain\"\n",
    "    },\n",
    "    'case3' : {\n",
    "        'source': \"levinstien\",\n",
    "        'target': \"levenshtein\"\n",
    "    },\n",
    "    'case4' : {\n",
    "        'source': \"leviathan\",\n",
    "        'target': \"levenshtein\"\n",
    "    },\n",
    "    'case5' : {\n",
    "        'source': \"ATGCATCCCATGAC\",\n",
    "        'target': \"TCTATATCCGT\"\n",
    "    },\n",
    "    'case6' : {\n",
    "        'source': \"AGGCTATCACCTGACCTCCAGGCCGATGCCCACCTGG\",\n",
    "        'target': \"TAGCTATCACGACCGCGGTCGATTTGCCCGACGGTCC\"\n",
    "    }\n",
    "}\n",
    "# print( 'case1', test_cases[ 'case1']['source'], test_cases[ 'case1']['target'])\n",
    "# d=editDistance( test_cases[ 'case1']['source'], test_cases[ 'case1']['target'])\n",
    "# print(d)\n",
    "for test_case in test_cases.keys():\n",
    "    print(test_case, test_cases[test_case]['source'], test_cases[test_case]['target'])\n",
    "    d=editDistance( test_cases[test_case]['source'], test_cases[test_case]['target'])\n",
    "    print(d)\n",
    "\n",
    "  # test your code here through function calls\n"
   ]
  },
  {
   "cell_type": "code",
   "execution_count": null,
   "metadata": {
    "id": "HC6qQWKUTJus"
   },
   "outputs": [],
   "source": []
  }
 ],
 "metadata": {
  "colab": {
   "provenance": []
  },
  "kernelspec": {
   "display_name": "Python 3 (ipykernel)",
   "language": "python",
   "name": "python3"
  },
  "language_info": {
   "codemirror_mode": {
    "name": "ipython",
    "version": 3
   },
   "file_extension": ".py",
   "mimetype": "text/x-python",
   "name": "python",
   "nbconvert_exporter": "python",
   "pygments_lexer": "ipython3",
   "version": "3.9.4"
  }
 },
 "nbformat": 4,
 "nbformat_minor": 4
}
