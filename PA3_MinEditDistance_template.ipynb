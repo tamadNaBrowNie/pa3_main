{
 "cells": [
  {
   "cell_type": "markdown",
   "metadata": {
    "id": "wt4sVtx0CqPh"
   },
   "source": [
    "# **Programming Assessment \\#3**\n",
    "\n",
    "Name:Shawn Aberin\n",
    "\n",
    "More information on the assessment is found in our Canvas course."
   ]
  },
  {
   "cell_type": "markdown",
   "metadata": {
    "id": "nnzCsnf1E4V1"
   },
   "source": [
    "# **Your Solution**\n",
    "\n",
    "*Kindly place your solution in the code block below. You may use multiple code blocks if you see the need to do so.*"
   ]
  },
  {
   "cell_type": "code",
   "execution_count": 84,
   "metadata": {},
   "outputs": [
    {
     "name": "stderr",
     "output_type": "stream",
     "text": [
      "WARNING: Ignoring invalid distribution -ip (c:\\python39\\lib\\site-packages)"
     ]
    },
    {
     "name": "stdout",
     "output_type": "stream",
     "text": [
      "Requirement already satisfied: icecream in c:\\python39\\lib\\site-packages (2.1.3)"
     ]
    },
    {
     "name": "stderr",
     "output_type": "stream",
     "text": [
      "\n",
      "WARNING: Ignoring invalid distribution -ip (c:\\python39\\lib\\site-packages)"
     ]
    },
    {
     "name": "stdout",
     "output_type": "stream",
     "text": [
      "\n"
     ]
    },
    {
     "name": "stderr",
     "output_type": "stream",
     "text": [
      "\n"
     ]
    },
    {
     "name": "stdout",
     "output_type": "stream",
     "text": [
      "Requirement already satisfied: colorama>=0.3.9 in c:\\users\\shawn\\appdata\\roaming\\python\\python39\\site-packages (from icecream) (0.4.5)\n",
      "Requirement already satisfied: pygments>=2.2.0 in c:\\users\\shawn\\appdata\\roaming\\python\\python39\\site-packages (from icecream) (2.14.0)\n",
      "Requirement already satisfied: executing>=0.3.1 in c:\\users\\shawn\\appdata\\roaming\\python\\python39\\site-packages (from icecream) (0.8.3)\n",
      "Requirement already satisfied: asttokens>=2.0.1 in c:\\users\\shawn\\appdata\\roaming\\python\\python39\\site-packages (from icecream) (2.0.5)\n",
      "Requirement already satisfied: six in c:\\users\\shawn\\appdata\\roaming\\python\\python39\\site-packages (from asttokens>=2.0.1->icecream) (1.16.0)\n"
     ]
    }
   ],
   "source": [
    "!pip install icecream"
   ]
  },
  {
   "cell_type": "code",
   "execution_count": 137,
   "metadata": {
    "id": "gfXU5Xc4E_ud"
   },
   "outputs": [
    {
     "name": "stderr",
     "output_type": "stream",
     "text": [
      "ic| pi: 0, pj: 0\n",
      "ic| pi: 0, pj: 1\n",
      "ic| i: 1, pj: 2\n",
      "ic| pi: 1, pj: 0\n",
      "ic| i: 2, pj: 1\n",
      "ic| pi: 1, pj: 2\n",
      "ic| pi: 2, j: 1\n",
      "ic| pi: 2, pj: 1\n",
      "ic| pi: 2, j: 3\n"
     ]
    },
    {
     "name": "stdout",
     "output_type": "stream",
     "text": [
      "b a a\n",
      "m m d\n",
      "a b _\n",
      "\n"
     ]
    }
   ],
   "source": [
    "\n",
    "from icecream  import ic\n",
    "def editDistance(src, tag):\n",
    "    SUB,EQ,RM,INS ='s','m','d','i'\n",
    "    m= len(src)\n",
    "    n = len(tag)\n",
    "    mat = [[0]*(n+1) for _ in range(m+1)]\n",
    "    mat[0] = [*range(n+1)]\n",
    "    ops = [['']*(n+1) for _ in range(m+1)]\n",
    "    for i in range(1,m+1):mat[i][0]=i\n",
    "        \n",
    "    def old(i,j):\n",
    "        # print(i,j)\n",
    "        \n",
    "        pi,pj = i-1,j-1\n",
    "\n",
    "        mi,mj,mp = mat[pi][j], mat[i][pj], mat[pi][pj]+1\n",
    "        \n",
    "        mat[i][j] = mat[pi][pj] if src[pi]==tag[pj] else 1+min(mp,mj,mi,)\n",
    "        \n",
    "        val = mat[i][j] -1\n",
    "        \n",
    "        ops[i][j] = ''\n",
    "        \n",
    "        if  mp == val:\n",
    "            ops[i][j]= ops[pi][pj]+SUB\n",
    "            \n",
    "            ic(pi,pj)\n",
    "            \n",
    "        elif val == mj: \n",
    "            ops[i][j]=ops[i][pj]+INS\n",
    "\n",
    "            ic(i,pj)\n",
    "            \n",
    "        elif val==mi: \n",
    "            ops[i][j] = ops[pi][j]+RM\n",
    "            \n",
    "            ic(pi,j)\n",
    "        \n",
    "        elif src[pi]==tag[pj]:\n",
    "            \n",
    "            ops[i][j] = ops[pi][pj]+EQ\n",
    "\n",
    "            ic(pi,pj)\n",
    "\n",
    "        # print(ops[i][j])\n",
    "        \n",
    "                    \n",
    "    for i in range(1,m+1): \n",
    "        for j in range(1, n + 1):\n",
    "            old(i,j)\n",
    "            \n",
    "     \n",
    "\n",
    "    trc_src, trc_tag =[],[]\n",
    "    i,j = 0,0\n",
    "    trace = ops[m][n]\n",
    "    \n",
    "    for c in trace:\n",
    "        s,t ='',''\n",
    "        if c==EQ or c==SUB:\n",
    "            s,t=(src[i],tag[j])\n",
    "            i+=1\n",
    "            j+=1\n",
    "        elif c==RM:\n",
    "            s,t = (src[i],'_')\n",
    "            i+=1\n",
    "        elif c == INS:\n",
    "            s,t=('>',tag[j])\n",
    "            j+=1\n",
    "        trc_src.append(s)\n",
    "        trc_tag.append(t)\n",
    "    trace = ' '.join(trace)\n",
    "    s_trace = ' '.join(trc_src)\n",
    "    t_trace = ' '.join(trc_tag)\n",
    "    return (mat[m][n],'\\n'.join((s_trace,trace, t_trace,'')))\n",
    "ic.enable()\n",
    "#F IT I AM BACKTRACKING THIS\n",
    "#list of snafu cases\n",
    "snafu = [(\"nbruta\",\"boruta\"),(\"elf\",\"level\"),(\"boruta\",\"nbruta\"),(\"level\",\"elves\"),('a','baa'),('baa','aba')]\n",
    "d = editDistance(*snafu[5])\n",
    "print(d[1])"
   ]
  },
  {
   "cell_type": "markdown",
   "metadata": {
    "id": "Z0g8gfIKukjx"
   },
   "source": [
    "#**Test Cases**\n",
    "To make things easier, you can use your implementation of the algorithm on the test cases provided in the Canvas assignment and indicate the output below."
   ]
  },
  {
   "cell_type": "code",
   "execution_count": 130,
   "metadata": {
    "colab": {
     "base_uri": "https://localhost:8080/"
    },
    "id": "eo4DpQ_gu4_Q",
    "outputId": "4fa42c25-8e9b-44de-f4f8-c7e37c02d776"
   },
   "outputs": [
    {
     "name": "stdout",
     "output_type": "stream",
     "text": [
      "case1 naruto's son boruto's dad\n",
      "\n",
      "dist:5\n",
      "alignment:\n",
      "n a r u t o ' s   s o n\n",
      "s s m m m m m m m s s s\n",
      "b o r u t o ' s   d a d\n",
      "\n",
      "case2 kumakain kumain\n",
      "\n",
      "dist:2\n",
      "alignment:\n",
      "k u m a k a i n\n",
      "m m m m d d m m\n",
      "k u m a _ _ i n\n",
      "\n",
      "case3 levinstien levenshtein\n",
      "\n",
      "dist:4\n",
      "alignment:\n",
      "l e v i n s > t i e n\n",
      "m m m s m m i m s s m\n",
      "l e v e n s h t e i n\n",
      "\n",
      "case4 leviathan levenshtein\n",
      "\n",
      "dist:6\n",
      "alignment:\n",
      "l e v > > i a t h a n\n",
      "m m m i i s s m s s m\n",
      "l e v e n s h t e i n\n",
      "\n",
      "case5 TAGCATCCCATGAC CTTATATCCGT\n",
      "\n",
      "dist:9\n",
      "alignment:\n",
      "T A G C A T C C C A T G A C\n",
      "m s s s m m m m d d d m d s\n",
      "C T T A T A T C _ _ _ C _ G\n",
      "\n",
      "case6 AGGCTATCACCTGACCTCCAGGCCGATGCCCACCTGG TAGCTATCACGACCGCGGTCGATTTGCCCGACGGTCC\n",
      "\n",
      "dist:15\n",
      "alignment:\n",
      "A G G C T A T C A C C T G A C C T C C A G G C C G A T > > G C C C > A C > C T G G\n",
      "m m d m m m m m m m d d m m m m s m d d m m s m m m m i i m m m m i m m i s m s s\n",
      "T A _ G C T A T C A _ _ C G A C C G _ _ C G G T C G A T T T G C C C G A C G G T C\n",
      "\n"
     ]
    }
   ],
   "source": [
    "test_cases = {\n",
    "    'case1' : {\n",
    "        'source': \"naruto's son\",\n",
    "        'target': \"boruto's dad\"\n",
    "    },\n",
    "    'case2' : {\n",
    "        'source': \"kumakain\",\n",
    "        'target': \"kumain\"\n",
    "    },\n",
    "    'case3' : {\n",
    "        'source': \"levinstien\",\n",
    "        'target': \"levenshtein\"\n",
    "    },\n",
    "    'case4' : {\n",
    "        'source': \"leviathan\",\n",
    "        'target': \"levenshtein\"\n",
    "    },\n",
    "    'case5' : {\n",
    "        'source': \"TAGCATCCCATGAC\",\n",
    "        'target': \"CTTATATCCGT\"\n",
    "    },\n",
    "    'case6' : {\n",
    "        'source': \"AGGCTATCACCTGACCTCCAGGCCGATGCCCACCTGG\",\n",
    "        'target': \"TAGCTATCACGACCGCGGTCGATTTGCCCGACGGTCC\"\n",
    "    }\n",
    "}\n",
    "ic.disable()\n",
    "for test_case in test_cases.keys():\n",
    "    print(test_case, test_cases[test_case]['source'], test_cases[test_case]['target'])\n",
    "    d=editDistance( test_cases[test_case]['source'], test_cases[test_case]['target'])\n",
    "    print('\\n'.join((f'\\ndist:{d[0]}','alignment:',d[1])))\n",
    "   \n",
    "    \n",
    "    \n",
    "  # test your code here through function calls\n"
   ]
  },
  {
   "cell_type": "code",
   "execution_count": null,
   "metadata": {},
   "outputs": [],
   "source": []
  }
 ],
 "metadata": {
  "colab": {
   "provenance": []
  },
  "kernelspec": {
   "display_name": "Python 3 (ipykernel)",
   "language": "python",
   "name": "python3"
  },
  "language_info": {
   "codemirror_mode": {
    "name": "ipython",
    "version": 3
   },
   "file_extension": ".py",
   "mimetype": "text/x-python",
   "name": "python",
   "nbconvert_exporter": "python",
   "pygments_lexer": "ipython3",
   "version": "3.9.4"
  }
 },
 "nbformat": 4,
 "nbformat_minor": 4
}
