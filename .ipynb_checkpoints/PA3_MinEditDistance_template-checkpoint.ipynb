{
 "cells": [
  {
   "cell_type": "markdown",
   "metadata": {
    "id": "wt4sVtx0CqPh"
   },
   "source": [
    "# **Programming Assessment \\#3**\n",
    "\n",
    "Name:Shawn Aberin\n",
    "\n",
    "More information on the assessment is found in our Canvas course."
   ]
  },
  {
   "cell_type": "markdown",
   "metadata": {
    "id": "nnzCsnf1E4V1"
   },
   "source": [
    "# **Your Solution**\n",
    "\n",
    "*Kindly place your solution in the code block below. You may use multiple code blocks if you see the need to do so.*"
   ]
  },
  {
   "cell_type": "code",
   "execution_count": 73,
   "metadata": {
    "id": "gfXU5Xc4E_ud"
   },
   "outputs": [
    {
     "name": "stdout",
     "output_type": "stream",
     "text": [
      "Requirement already satisfied: icecream in c:\\python39\\lib\\site-packages (2.1.3)"
     ]
    },
    {
     "name": "stderr",
     "output_type": "stream",
     "text": [
      "WARNING: Ignoring invalid distribution -ip (c:\\python39\\lib\\site-packages)"
     ]
    },
    {
     "name": "stdout",
     "output_type": "stream",
     "text": [
      "\n"
     ]
    },
    {
     "name": "stderr",
     "output_type": "stream",
     "text": [
      "\n"
     ]
    },
    {
     "name": "stdout",
     "output_type": "stream",
     "text": [
      "Requirement already satisfied: colorama>=0.3.9 in c:\\users\\shawn\\appdata\\roaming\\python\\python39\\site-packages (from icecream) (0.4.5)"
     ]
    },
    {
     "name": "stderr",
     "output_type": "stream",
     "text": [
      "WARNING: Ignoring invalid distribution -ip (c:\\python39\\lib\\site-packages)"
     ]
    },
    {
     "name": "stdout",
     "output_type": "stream",
     "text": [
      "\n"
     ]
    },
    {
     "name": "stderr",
     "output_type": "stream",
     "text": [
      "\n"
     ]
    },
    {
     "name": "stdout",
     "output_type": "stream",
     "text": [
      "Requirement already satisfied: pygments>=2.2.0 in c:\\users\\shawn\\appdata\\roaming\\python\\python39\\site-packages (from icecream) (2.14.0)\n",
      "Requirement already satisfied: executing>=0.3.1 in c:\\users\\shawn\\appdata\\roaming\\python\\python39\\site-packages (from icecream) (0.8.3)\n",
      "Requirement already satisfied: asttokens>=2.0.1 in c:\\users\\shawn\\appdata\\roaming\\python\\python39\\site-packages (from icecream) (2.0.5)\n",
      "Requirement already satisfied: six in c:\\users\\shawn\\appdata\\roaming\\python\\python39\\site-packages (from asttokens>=2.0.1->icecream) (1.16.0)\n"
     ]
    },
    {
     "name": "stderr",
     "output_type": "stream",
     "text": [
      "ic| i: 1\n",
      "ic| SUB: 's', pi: 0, pj: 0\n",
      "ic| EQ: 'm', pi: 0, pj: 1\n",
      "ic| EQ: 'm', pi: 0, pj: 2\n"
     ]
    },
    {
     "ename": "NameError",
     "evalue": "name 'im' is not defined",
     "output_type": "error",
     "traceback": [
      "\u001b[1;31m---------------------------------------------------------------------------\u001b[0m",
      "\u001b[1;31mNameError\u001b[0m                                 Traceback (most recent call last)",
      "Input \u001b[1;32mIn [73]\u001b[0m, in \u001b[0;36m<cell line: 62>\u001b[1;34m()\u001b[0m\n\u001b[0;32m     60\u001b[0m     \u001b[38;5;28;01mreturn\u001b[39;00m (mat[m][n],\u001b[38;5;124m'\u001b[39m\u001b[38;5;130;01m\\n\u001b[39;00m\u001b[38;5;124m'\u001b[39m\u001b[38;5;241m.\u001b[39mjoin((s_trace,trace, t_trace,\u001b[38;5;124m'\u001b[39m\u001b[38;5;124m'\u001b[39m)))\n\u001b[0;32m     61\u001b[0m ic\u001b[38;5;241m.\u001b[39menable()\n\u001b[1;32m---> 62\u001b[0m \u001b[43meditDistance\u001b[49m\u001b[43m(\u001b[49m\u001b[38;5;124;43m\"\u001b[39;49m\u001b[38;5;124;43mTAGCATCCCATGAC\u001b[39;49m\u001b[38;5;124;43m\"\u001b[39;49m\u001b[43m,\u001b[49m\u001b[38;5;124;43m\"\u001b[39;49m\u001b[38;5;124;43mCTTATATCCGT\u001b[39;49m\u001b[38;5;124;43m\"\u001b[39;49m\u001b[43m)\u001b[49m\n",
      "Input \u001b[1;32mIn [73]\u001b[0m, in \u001b[0;36meditDistance\u001b[1;34m(src, tag)\u001b[0m\n\u001b[0;32m     33\u001b[0m     ic(i)\n\u001b[0;32m     34\u001b[0m     \u001b[38;5;28;01mfor\u001b[39;00m j \u001b[38;5;129;01min\u001b[39;00m \u001b[38;5;28mrange\u001b[39m(\u001b[38;5;241m1\u001b[39m, n \u001b[38;5;241m+\u001b[39m \u001b[38;5;241m1\u001b[39m):\n\u001b[1;32m---> 35\u001b[0m         \u001b[43mold\u001b[49m\u001b[43m(\u001b[49m\u001b[43mi\u001b[49m\u001b[43m,\u001b[49m\u001b[43mj\u001b[49m\u001b[43m)\u001b[49m\n\u001b[0;32m     36\u001b[0m         \u001b[38;5;66;03m# ic(old(i,j))\u001b[39;00m\n\u001b[0;32m     39\u001b[0m trc_src, trc_tag \u001b[38;5;241m=\u001b[39m[],[]\n",
      "Input \u001b[1;32mIn [73]\u001b[0m, in \u001b[0;36meditDistance.<locals>.old\u001b[1;34m(i, j)\u001b[0m\n\u001b[0;32m     25\u001b[0m \u001b[38;5;28;01melif\u001b[39;00m val \u001b[38;5;241m==\u001b[39m mat[i][pj]: \n\u001b[0;32m     26\u001b[0m     ops[i][j]\u001b[38;5;241m=\u001b[39mops[i][pj]\u001b[38;5;241m+\u001b[39mINS\n\u001b[1;32m---> 27\u001b[0m     ic(INS,\u001b[43mim\u001b[49m,pj)\n",
      "\u001b[1;31mNameError\u001b[0m: name 'im' is not defined"
     ]
    }
   ],
   "source": [
    "!pip install icecream\n",
    "from icecream  import ic\n",
    "def editDistance(src, tag):\n",
    "    SUB,EQ,RM,INS ='s','m','d','i'\n",
    "    m= len(src)\n",
    "    n = len(tag)\n",
    "    mat = [[0]*(n+1) for _ in range(m+1)]\n",
    "    mat[0] = [*range(n+1)]\n",
    "    ops = [['']*(n+1) for _ in range(m+1)]\n",
    "    for i in range(1,m+1):mat[i][0]=i\n",
    "    def old(i,j):\n",
    "        pi,pj = i-1,j-1\n",
    "        mat[i][j] = mat[pi][pj] if src[pi]==tag[pj] else 1+min(mat[pi][j], mat[i][pj], mat[pi][pj]+1)\n",
    "        val = mat[i][j] -1\n",
    "        ops[i][j] = ''\n",
    "        if src[pi]==tag[pj]:\n",
    "            ops[i][j] = ops[pi][pj]+EQ\n",
    "            ic(EQ,pi,pj)\n",
    "        elif  mat[pi][pj]+1 == val:\n",
    "            ops[i][j]= ops[pi][pj]+SUB\n",
    "            ic(SUB,pi,pj)\n",
    "        elif val==mat[pi][j]: \n",
    "            ops[i][j] = ops[pi][j]+RM\n",
    "            ic(RM,pi,j)\n",
    "        elif val == mat[i][pj]: \n",
    "            ops[i][j]=ops[i][pj]+INS\n",
    "            ic(INS,i,pj)\n",
    "        \n",
    "        \n",
    "\n",
    "            \n",
    "    for i in range(1,m+1): \n",
    "        ic(i)\n",
    "        for j in range(1, n + 1):\n",
    "            old(i,j)\n",
    "            # ic(old(i,j))\n",
    "     \n",
    "\n",
    "    trc_src, trc_tag =[],[]\n",
    "    i,j = 0,0\n",
    "    trace = ops[m][n]\n",
    "    \n",
    "    for c in trace:\n",
    "        s,t ='',''\n",
    "        if c==EQ or c==SUB:\n",
    "            s,t=(src[i],tag[j])\n",
    "            i+=1\n",
    "            j+=1\n",
    "        elif c==RM:\n",
    "            s,t = (src[i],'_')\n",
    "            i+=1\n",
    "        elif c == INS:\n",
    "            s,t=('>',tag[j])\n",
    "            j+=1\n",
    "        trc_src.append(s)\n",
    "        trc_tag.append(t)\n",
    "    trace = ' '.join(trace)\n",
    "    s_trace = ' '.join(trc_src)\n",
    "    t_trace = ' '.join(trc_tag)\n",
    "    return (mat[m][n],'\\n'.join((s_trace,trace, t_trace,'')))\n",
    "ic.enable()\n",
    "editDistance(\"TAGCATCCCATGAC\",\"CTTATATCCGT\")\n"
   ]
  },
  {
   "cell_type": "markdown",
   "metadata": {
    "id": "Z0g8gfIKukjx"
   },
   "source": [
    "#**Test Cases**\n",
    "To make things easier, you can use your implementation of the algorithm on the test cases provided in the Canvas assignment and indicate the output below."
   ]
  },
  {
   "cell_type": "code",
   "execution_count": 72,
   "metadata": {
    "colab": {
     "base_uri": "https://localhost:8080/"
    },
    "id": "eo4DpQ_gu4_Q",
    "outputId": "4fa42c25-8e9b-44de-f4f8-c7e37c02d776"
   },
   "outputs": [
    {
     "name": "stdout",
     "output_type": "stream",
     "text": [
      "case1 naruto's son boruto's dad\n",
      "\n",
      "dist:10\n",
      "alignment:\n",
      "n a r u t o ' s   s o n\n",
      "s s m m m m m m m s s s\n",
      "b o r u t o ' s   d a d\n",
      "\n",
      "case2 kumakain kumain\n",
      "\n",
      "dist:2\n",
      "alignment:\n",
      "k u m a k a i n\n",
      "m m m d d m m m\n",
      "k u m _ _ a i n\n",
      "\n",
      "case3 levinstien levenshtein\n",
      "\n",
      "dist:5\n",
      "alignment:\n",
      "l e v i n s > t > i e n\n",
      "m m m s m m i m i m d m\n",
      "l e v e n s h t e i _ n\n",
      "\n",
      "case4 leviathan levenshtein\n",
      "\n",
      "dist:10\n",
      "alignment:\n",
      "l e v > > i a t h a n\n",
      "m m m i i s s m s s m\n",
      "l e v e n s h t e i n\n",
      "\n",
      "case5 TAGCATCCCATGAC CTTATATCCGT\n",
      "\n",
      "dist:11\n",
      "alignment:\n",
      "T A G C A T C C C A T G A C\n",
      "m m d s m m d m m d d m d s\n",
      "C T _ T A T _ A T _ _ C _ C\n",
      "\n",
      "case6 AGGCTATCACCTGACCTCCAGGCCGATGCCCACCTGG TAGCTATCACGACCGCGGTCGATTTGCCCGACGGTCC\n",
      "\n",
      "dist:18\n",
      "alignment:\n",
      "A G G C T A T C A C C T G A C C T C C A G G C C G A > > T G C C C > A C C T G G > > >\n",
      "m d m m m m m m m d m d m m m m d s m d m m s m m m i i m m m m m i m d m d m m i i i\n",
      "T _ A G C T A T C _ A _ C G A C _ C G _ C G G T C G A T T T G C C C G _ A _ C G G T C\n",
      "\n"
     ]
    }
   ],
   "source": [
    "test_cases = {\n",
    "    'case1' : {\n",
    "        'source': \"naruto's son\",\n",
    "        'target': \"boruto's dad\"\n",
    "    },\n",
    "    'case2' : {\n",
    "        'source': \"kumakain\",\n",
    "        'target': \"kumain\"\n",
    "    },\n",
    "    'case3' : {\n",
    "        'source': \"levinstien\",\n",
    "        'target': \"levenshtein\"\n",
    "    },\n",
    "    'case4' : {\n",
    "        'source': \"leviathan\",\n",
    "        'target': \"levenshtein\"\n",
    "    },\n",
    "    'case5' : {\n",
    "        'source': \"TAGCATCCCATGAC\",\n",
    "        'target': \"CTTATATCCGT\"\n",
    "    },\n",
    "    'case6' : {\n",
    "        'source': \"AGGCTATCACCTGACCTCCAGGCCGATGCCCACCTGG\",\n",
    "        'target': \"TAGCTATCACGACCGCGGTCGATTTGCCCGACGGTCC\"\n",
    "    }\n",
    "}\n",
    "ic.disable()\n",
    "for test_case in test_cases.keys():\n",
    "    print(test_case, test_cases[test_case]['source'], test_cases[test_case]['target'])\n",
    "    d=editDistance( test_cases[test_case]['source'], test_cases[test_case]['target'])\n",
    "    print('\\n'.join((f'\\ndist:{d[0]}','alignment:',d[1])))\n",
    "   \n",
    "    \n",
    "    \n",
    "  # test your code here through function calls\n"
   ]
  },
  {
   "cell_type": "code",
   "execution_count": null,
   "metadata": {},
   "outputs": [],
   "source": []
  }
 ],
 "metadata": {
  "colab": {
   "provenance": []
  },
  "kernelspec": {
   "display_name": "Python 3 (ipykernel)",
   "language": "python",
   "name": "python3"
  },
  "language_info": {
   "codemirror_mode": {
    "name": "ipython",
    "version": 3
   },
   "file_extension": ".py",
   "mimetype": "text/x-python",
   "name": "python",
   "nbconvert_exporter": "python",
   "pygments_lexer": "ipython3",
   "version": "3.9.4"
  }
 },
 "nbformat": 4,
 "nbformat_minor": 4
}
