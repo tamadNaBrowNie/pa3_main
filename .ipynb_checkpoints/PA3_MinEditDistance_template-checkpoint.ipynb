{
 "cells": [
  {
   "cell_type": "markdown",
   "metadata": {
    "id": "wt4sVtx0CqPh"
   },
   "source": [
    "# **Programming Assessment \\#3**\n",
    "\n",
    "Name:Shawn Aberin\n",
    "\n",
    "More information on the assessment is found in our Canvas course."
   ]
  },
  {
   "cell_type": "markdown",
   "metadata": {
    "id": "nnzCsnf1E4V1"
   },
   "source": [
    "# **Your Solution**\n",
    "\n",
    "*Kindly place your solution in the code block below. You may use multiple code blocks if you see the need to do so.*"
   ]
  },
  {
   "cell_type": "code",
   "execution_count": 84,
   "metadata": {},
   "outputs": [
    {
     "name": "stderr",
     "output_type": "stream",
     "text": [
      "WARNING: Ignoring invalid distribution -ip (c:\\python39\\lib\\site-packages)"
     ]
    },
    {
     "name": "stdout",
     "output_type": "stream",
     "text": [
      "Requirement already satisfied: icecream in c:\\python39\\lib\\site-packages (2.1.3)"
     ]
    },
    {
     "name": "stderr",
     "output_type": "stream",
     "text": [
      "\n",
      "WARNING: Ignoring invalid distribution -ip (c:\\python39\\lib\\site-packages)"
     ]
    },
    {
     "name": "stdout",
     "output_type": "stream",
     "text": [
      "\n"
     ]
    },
    {
     "name": "stderr",
     "output_type": "stream",
     "text": [
      "\n"
     ]
    },
    {
     "name": "stdout",
     "output_type": "stream",
     "text": [
      "Requirement already satisfied: colorama>=0.3.9 in c:\\users\\shawn\\appdata\\roaming\\python\\python39\\site-packages (from icecream) (0.4.5)\n",
      "Requirement already satisfied: pygments>=2.2.0 in c:\\users\\shawn\\appdata\\roaming\\python\\python39\\site-packages (from icecream) (2.14.0)\n",
      "Requirement already satisfied: executing>=0.3.1 in c:\\users\\shawn\\appdata\\roaming\\python\\python39\\site-packages (from icecream) (0.8.3)\n",
      "Requirement already satisfied: asttokens>=2.0.1 in c:\\users\\shawn\\appdata\\roaming\\python\\python39\\site-packages (from icecream) (2.0.5)\n",
      "Requirement already satisfied: six in c:\\users\\shawn\\appdata\\roaming\\python\\python39\\site-packages (from asttokens>=2.0.1->icecream) (1.16.0)\n"
     ]
    }
   ],
   "source": [
    "!pip install icecream"
   ]
  },
  {
   "cell_type": "code",
   "execution_count": null,
   "metadata": {
    "id": "gfXU5Xc4E_ud"
   },
   "outputs": [],
   "source": [
    "from numpy import argmin\n",
    "from icecream  import ic\n",
    "def editDistance(src, tag):\n",
    "    op={0:'s',1:'i',2:'d',3:'m',}\n",
    "    m= len(src)\n",
    "    n = len(tag)\n",
    "    mat = [[0]*(n+1) for _ in range(m+1)]\n",
    "    mat[0] = [*range(n+1)]\n",
    "    \n",
    "    for i in range(1,m+1):mat[i][0]=i\n",
    "        \n",
    "    # ops = [[(0,0)]*(n+1) for _ in range(m+1)]    \n",
    "    ops = dict()\n",
    "    ops[(0,0)]=None\n",
    "    for i in range(1, m+1): \n",
    "        for j in range(1,n+1): \n",
    "            pi,pj = i-1,j-1\n",
    "            mi,mj,mp = mat[pi][j], mat[i][pj], mat[pi][pj]+1\n",
    "            mat[i][j]= mat[pi][pj] if  src[pi]==tag[pj] else 1+min(mp,mi,mj,)\n",
    "            ind = 3 if src[pi] is tag[pj] else argmin([mp,mi,mj],)\n",
    "            # print(mat[i][j],src[pi],tag[pj],op[argmin([mp,mi,mj])])\n",
    "            ops[i][j] = ''\n",
    "            ic.disable()\n",
    "            val = mat[i][j]-1\n",
    "\n",
    "            if  mp == val or src[pi]==tag[pj]:\n",
    "                ops[(i,j)]= (pi,pj)\n",
    "                \n",
    "                ic(pi,pj)\n",
    "                \n",
    "            elif val == mj: \n",
    "                ps[(i,j)]=(i,pj)\n",
    "    \n",
    "                ic(i,pj)\n",
    "                \n",
    "            elif val==mi: \n",
    "                ps[(i,j)]=(pi,j)\n",
    "                \n",
    "                ic(pi,j)\n",
    "\n",
    "    \n",
    "    # back tracing failed\n",
    "    \n",
    "\n",
    "    \n",
    "    \n",
    "    r_tag = tag\n",
    "    # cur = [0 for i in range(n+1)]\n",
    "    # r = [*range(n+1)]\n",
    "    \n",
    "    # pi = 0\n",
    "    # for i in range(m):\n",
    "    #     print(i)\n",
    "    #     cur[0] = i+1\n",
    "    #     for j in range(n):\n",
    "    #         nj = j+1\n",
    "    #         sub = r[j]+1\n",
    "    #         rm = r[nj]\n",
    "    #         ins = cur[j] +1\n",
    "    #         # print(j)\n",
    "    #         if src[i]==tag[j]:\n",
    "    #             ops[i+1][nj] = ops[i][j]+op[3]\n",
    "    #             cur[nj] = sub-1\n",
    "    #         else:\n",
    "    #             cur[nj] = 1+min(sub,ins,rm,)\n",
    "    #             val = cur[nj] -1\n",
    "    #             if  val == sub:\n",
    "    #                 ops[i+1][j+1]= ops[i][j]+op[0]\n",
    "    #             elif val == ins: \n",
    "    #                 ops[i+1][j+1]=ops[i+1][j]+op[1]\n",
    "    #             elif val==rm: \n",
    "    #                 ops[i+1][j+1] = ops[i][j+1]+op[2]\n",
    "\n",
    "\n",
    "    #     r = cur\n",
    "            \n",
    "    \n",
    "    trc_src, trc_tag =[],[]\n",
    "    i,j = 0,0\n",
    "    # for c in trace:\n",
    "    #     # print(i,j)\n",
    "    #     s,t ='',''\n",
    "    #     if c==op[3] or c==op[0]:\n",
    "    #         s,t=(src[i],r_tag[j])\n",
    "    #         i+=1\n",
    "    #         j+=1\n",
    "    #     elif c==op[2]:\n",
    "    #         s,t = (src[i],'_')\n",
    "    #         i+=1\n",
    "    #     elif c == op[1]:\n",
    "    #         s,t=('>',r_tag[j])\n",
    "    #         j+=1\n",
    "    #     trc_src.append(s)\n",
    "    #     trc_tag.append(t)\n",
    "    #     current = (m, n)\n",
    "    current = (m,n)\n",
    "    predecessor = ops[current]\n",
    "    print(predecessor)\n",
    "    \n",
    "\n",
    "    trace= ''\n",
    "    while predecessor : #while not 0,0\n",
    "        if current[0] != predecessor[0] and current[1] != predecessor[1]:\n",
    "            trc_src.append(src[predecessor[0]])\n",
    "            trc_tag.append(tag[predecessor[1]])\n",
    "            if src[predecessor[0]] is tag[predecessor[1]]:\n",
    "                trace += op[3]\n",
    "            else:trace +=op[0]\n",
    "\n",
    "        elif current[0] != predecessor[0]:\n",
    "            trc_src += src[predecessor[0]]\n",
    "            trc_tag += \"-\"\n",
    "            trace +=op[2]\n",
    "            # trc_src.append('>')\n",
    "            # trc_tag.append(tag[predecessor[1]])\n",
    "            # trace +=op[1]\n",
    "        else:\n",
    "            trc_src.append('>')\n",
    "            trc_tag.append(tag[predecessor[1]])\n",
    "            trace +=op[1]\n",
    "            # trc_src += src[predecessor[0]]\n",
    "            # trc_tag += \"-\"\n",
    "            # trace +=op[2]\n",
    "        current = predecessor\n",
    "        predecessor = ops[current]\n",
    "    trace = trace[::-1]\n",
    "    trc_src = trc_src[::-1]\n",
    "    trc_tag = trc_tag[::-1]\n",
    "\n",
    "    trace = ' '.join(trace)\n",
    "    s_trace = ' '.join(trc_src)\n",
    "    t_trace = ' '.join(trc_tag)\n",
    "    # return (mat[m][n],'\\n'.join((s_trace,trace, t_trace,'')))\n",
    "    return (mat[m][n],'\\n'.join((s_trace,trace, t_trace,'')))\n",
    "ic.enable()\n",
    "\n",
    "#list of snafu cases\n",
    "snafu = [(\"nbruta\",\"boruta\"),(\"elf\",\"level\"),(\"boruta\",\"nbruta\"),(\"level\",\"elves\"),('a','baa'),('baa','aba')]\n",
    "d=editDistance(*snafu[4])\n",
    "print(d[0])\n",
    "\n",
    "    "
   ]
  },
  {
   "cell_type": "markdown",
   "metadata": {
    "id": "Z0g8gfIKukjx"
   },
   "source": [
    "#**Test Cases**\n",
    "To make things easier, you can use your implementation of the algorithm on the test cases provided in the Canvas assignment and indicate the output below."
   ]
  },
  {
   "cell_type": "markdown",
   "metadata": {},
   "source": [
    "I AM DOING THIS TO KEEP SANITY"
   ]
  },
  {
   "cell_type": "code",
   "execution_count": null,
   "metadata": {
    "colab": {
     "base_uri": "https://localhost:8080/"
    },
    "id": "eo4DpQ_gu4_Q",
    "outputId": "4fa42c25-8e9b-44de-f4f8-c7e37c02d776"
   },
   "outputs": [],
   "source": [
    "test_cases = {\n",
    "    'case1' : {\n",
    "        'source': \"naruto's son\",\n",
    "        'target': \"boruto's dad\"\n",
    "    },\n",
    "    'case2' : {\n",
    "        'source': \"kumakain\",\n",
    "        'target': \"kumain\"\n",
    "    },\n",
    "    'case3' : {\n",
    "        'source': \"levinstien\",\n",
    "        'target': \"levenshtein\"\n",
    "    },\n",
    "    'case4' : {\n",
    "        'source': \"leviathan\",\n",
    "        'target': \"levenshtein\"\n",
    "    },\n",
    "    'case5' : {\n",
    "        'source': \"TAGCATCCCATGAC\",\n",
    "        'target': \"CTTATATCCGT\"\n",
    "    },\n",
    "    'case6' : {\n",
    "        'source': \"AGGCTATCACCTGACCTCCAGGCCGATGCCCACCTGG\",\n",
    "        'target': \"TAGCTATCACGACCGCGGTCGATTTGCCCGACGGTCC\"\n",
    "    }\n",
    "}\n",
    "ic.disable()\n",
    "for test_case in test_cases.keys():\n",
    "    print(test_case, test_cases[test_case]['source'], test_cases[test_case]['target'])\n",
    "    d=editDistance( test_cases[test_case]['source'], test_cases[test_case]['target'])\n",
    "    print('\\n'.join((f'\\ndist:{d[0]}','alignment:',d[1])))\n",
    "   \n",
    "    \n",
    "    \n",
    "  # test your code here through function calls\n"
   ]
  },
  {
   "cell_type": "markdown",
   "metadata": {},
   "source": [
    "GUID ME LORD\n",
    "source: https://www.baeldung.com/cs/levenshtein-distance-computation\n",
    "fuck that link\n",
    "\\n\n",
    "last hope: https://codereview.stackexchange.com/questions/126194/making-the-levenshtein-distance-code-cleaner\n",
    "\n"
   ]
  },
  {
   "cell_type": "code",
   "execution_count": null,
   "metadata": {},
   "outputs": [],
   "source": [
    "# study this:\n",
    "# def levenshtein_distance(s, z):\n",
    "#     s = \"\\u0000\" + s\n",
    "#     z = \"\\u0000\" + z\n",
    "\n",
    "#     n = len(s)\n",
    "#     m = len(z)\n",
    "#     d = [[0 for x in range(n + 1)] for y in range(m + 1)]\n",
    "#     parent_map = dict()\n",
    "#     parent_map[(0, 0)] = None #taht is basically ops\n",
    "\n",
    "#     for i in range(1, m + 1):\n",
    "#         d[i][0] = i\n",
    "\n",
    "#     for j in range(1, n + 1):\n",
    "#         d[0][j] = j\n",
    "\n",
    "#     for j in range(1, n + 1):\n",
    "#         for i in range(1, m + 1):\n",
    "#             if s[j - 1] is z[i - 1]:\n",
    "#                 delta = 0\n",
    "#             else:\n",
    "#                 delta = 1\n",
    "\n",
    "#             tentative_dist = d[i - 1][j] + 1\n",
    "#             operation = 1 # Insert\n",
    "\n",
    "#             if tentative_dist > d[i][j - 1] + 1:\n",
    "#                 tentative_dist = d[i][j - 1] + 1\n",
    "#                 operation = 2 # Delete\n",
    "\n",
    "#             if tentative_dist > d[i - 1][j - 1] + delta:\n",
    "#                 tentative_dist = d[i - 1][j - 1] + delta\n",
    "#                 operation = 3\n",
    "\n",
    "#             if operation is 1:   # Insert\n",
    "#                 parent_map[(i, j)] = (i - 1, j)\n",
    "#             elif operation is 2: # Delete\n",
    "#                 parent_map[(i, j)] = (i, j - 1)\n",
    "#             else:                # Substitute\n",
    "#                 parent_map[(i, j)] = (i - 1, j - 1)\n",
    "#save the indices of the min character \n",
    "\n",
    "#             d[i][j] = tentative_dist\n",
    "#already did above. could simplify with argmin\n",
    "#     edit_string_top = \"\"\n",
    "#     edit_string_bottom = \"\"\n",
    "#     edit_sequence = \"\"\n",
    "\n",
    "#     current = (m, n)\n",
    "\n",
    "#     while True: #while not 0,0\n",
    "#         predecessor = parent_map[current]\n",
    "            # get the indices\n",
    "#         if not predecessor: \n",
    "#             break\n",
    "\n",
    "#         if current[0] != predecessor[0] and current[1] != predecessor[1]:\n",
    "#             schar = s[predecessor[1]]\n",
    "#             zchar = z[predecessor[0]]\n",
    "            # get the letters first\n",
    "\n",
    "#             edit_string_top += schar\n",
    "#             edit_string_bottom += zchar\n",
    "            #then check op\n",
    "#             if schar is zchar:\n",
    "#                 edit_sequence += \"N\"\n",
    "#             else:\n",
    "#                 edit_sequence += \"S\"\n",
    "        \n",
    "#         elif current[0] != predecessor[0]:\n",
    "#             edit_string_top += \"-\"\n",
    "#             edit_string_bottom += z[predecessor[0]]\n",
    "#             edit_sequence += \"I\"\n",
    "#         else:\n",
    "#             edit_string_top += s[predecessor[1]]\n",
    "#             edit_string_bottom += \"-\"\n",
    "#             edit_sequence += \"D\"\n",
    "\n",
    "#         current = predecessor\n",
    "#  it is reversed\n",
    "#     edit_string_top = edit_string_top[:-1][::-1]\n",
    "#     edit_string_bottom = edit_string_bottom[:-1][::-1]\n",
    "#     edit_sequence = edit_sequence[:-1][::-1]\n",
    "\n",
    "#     return d[m][n], edit_sequence, edit_string_top, edit_string_bottom"
   ]
  },
  {
   "cell_type": "code",
   "execution_count": null,
   "metadata": {},
   "outputs": [],
   "source": []
  }
 ],
 "metadata": {
  "colab": {
   "provenance": []
  },
  "kernelspec": {
   "display_name": "Python 3 (ipykernel)",
   "language": "python",
   "name": "python3"
  },
  "language_info": {
   "codemirror_mode": {
    "name": "ipython",
    "version": 3
   },
   "file_extension": ".py",
   "mimetype": "text/x-python",
   "name": "python",
   "nbconvert_exporter": "python",
   "pygments_lexer": "ipython3",
   "version": "3.9.4"
  }
 },
 "nbformat": 4,
 "nbformat_minor": 4
}
